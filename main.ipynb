{
 "cells": [
  {
   "cell_type": "code",
   "execution_count": 84,
   "metadata": {},
   "outputs": [],
   "source": [
    "import os\n",
    "import PyPDF2\n",
    "from fpdf import FPDF\n",
    "from fpdf.enums import XPos, YPos"
   ]
  },
  {
   "cell_type": "code",
   "execution_count": 85,
   "metadata": {},
   "outputs": [
    {
     "name": "stdout",
     "output_type": "stream",
     "text": [
      "5\n"
     ]
    }
   ],
   "source": [
    "dir_path = r'pdf'\n",
    "pdfn=(len([entry for entry in os.listdir(dir_path) if os.path.isfile(os.path.join(dir_path, entry))]))\n",
    "pdfn\n",
    "totalpages=0\n",
    "for pdfname in range(pdfn):\n",
    "    inputFile = PyPDF2.PdfReader(f\"pdf/{pdfname+1}.pdf\")\n",
    "    totalpages=totalpages+len(inputFile.pages)\n",
    "print(totalpages)"
   ]
  },
  {
   "cell_type": "code",
   "execution_count": 86,
   "metadata": {},
   "outputs": [],
   "source": [
    "\n",
    "global count\n",
    "global pdfpagecount\n",
    "count=0\n",
    "class NumberPDF(FPDF):\n",
    "    def __init__(self, numberOfPages):\n",
    "        super(NumberPDF, self).__init__()\n",
    "        self.numberOfPages = numberOfPages\n",
    "    # Overload Header\n",
    "    def header(self):\n",
    "        pass\n",
    "\n",
    "    # Overload Footer\n",
    "    def footer(self):\n",
    "        pagenumber=count-pdfpagecount+self.page_no()\n",
    "        # Position cursor at 1.5 cm from bottom:\n",
    "        self.set_y(-15)\n",
    "        # Setting font: helvetica italic 11\n",
    "        self.set_font(\"helvetica\", \"I\", 11)\n",
    "        # Printing page number:\n",
    "        self.cell(0, 10, f\"Page {pagenumber} of {totalpages}\" , align=\"C\")\n",
    "        \n",
    "for pdfname in range(pdfn):\n",
    "    # Grab the file you want to add pages to\n",
    "    inputFile = PyPDF2.PdfReader(f\"pdf/{pdfname+1}.pdf\")\n",
    "    outputFile = (f\"unmergedpdfs/{pdfname+1}.pdf\")\n",
    "\n",
    "    count=count+len(inputFile.pages)\n",
    "    pdfpagecount=len(inputFile.pages)\n",
    "    # Create a temporary numbering PDF using the overloaded FPDF class, passing the number of pages\n",
    "    # from your original file\n",
    "    tempNumFile = NumberPDF(len(inputFile.pages))\n",
    "    # Add a new page to the temporary numbering PDF (the footer function runs on add_page and will \n",
    "    # put the page number at the bottom, all else will be blank\n",
    "    for page in range(len(inputFile.pages)):\n",
    "        tempNumFile.add_page()\n",
    "\n",
    "\n",
    "    # Save the temporary numbering PDF\n",
    "    tempNumFile.output(\"tempNumbering.pdf\")\n",
    "\n",
    "    # Create a new PDFFileReader for the temporary numbering PDF\n",
    "    mergeFile = PyPDF2.PdfReader(\"tempNumbering.pdf\")\n",
    "\n",
    "    # Create a new PDFFileWriter for the final output document\n",
    "    mergeWriter = PyPDF2.PdfWriter()\n",
    "\n",
    "    # Loop through the pages in the temporary numbering PDF\n",
    "    for x, page in enumerate(mergeFile.pages):\n",
    "        # Grab the corresponding page from the inputFile\n",
    "        inputPage = inputFile.pages[x]\n",
    "\n",
    "        # Merge the inputFile page and the temporary numbering page\n",
    "        inputPage.merge_page(page)\n",
    "        # Add the merged page to the final output writer\n",
    "        mergeWriter.add_page(inputPage)\n",
    "\n",
    "    # Delete the temporary file\n",
    "    os.remove(\"tempNumbering.pdf\")\n",
    "\n",
    "    # Write the merged output\n",
    "    with open(outputFile, 'wb') as fh:\n",
    "        mergeWriter.write(fh)"
   ]
  },
  {
   "cell_type": "code",
   "execution_count": 87,
   "metadata": {},
   "outputs": [],
   "source": [
    "merger = PyPDF2.PdfWriter()\n",
    "\n",
    "for pdf in range(pdfn):\n",
    "    merger.append(f\"unmergedpdfs/{pdf+1}.pdf\")\n",
    "\n",
    "merger.write(\"Output.pdf\")\n",
    "merger.close()"
   ]
  }
 ],
 "metadata": {
  "kernelspec": {
   "display_name": "Python 3",
   "language": "python",
   "name": "python3"
  },
  "language_info": {
   "codemirror_mode": {
    "name": "ipython",
    "version": 3
   },
   "file_extension": ".py",
   "mimetype": "text/x-python",
   "name": "python",
   "nbconvert_exporter": "python",
   "pygments_lexer": "ipython3",
   "version": "3.11.0"
  },
  "orig_nbformat": 4,
  "vscode": {
   "interpreter": {
    "hash": "de47f5c92c0ee6f12a59a5613ac5feff6aab19ddff207ba0b3964cced08c4ccc"
   }
  }
 },
 "nbformat": 4,
 "nbformat_minor": 2
}
